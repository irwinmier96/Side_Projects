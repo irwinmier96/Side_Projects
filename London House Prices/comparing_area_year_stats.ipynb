{
 "cells": [
  {
   "cell_type": "code",
   "execution_count": 1,
   "metadata": {},
   "outputs": [],
   "source": [
    "import pandas as pd\n",
    "import numpy as np\n",
    "import matplotlib.pyplot as plt \n",
    "\n",
    "import datetime"
   ]
  },
  {
   "cell_type": "code",
   "execution_count": 2,
   "metadata": {},
   "outputs": [
    {
     "data": {
      "text/html": [
       "<div>\n",
       "<style scoped>\n",
       "    .dataframe tbody tr th:only-of-type {\n",
       "        vertical-align: middle;\n",
       "    }\n",
       "\n",
       "    .dataframe tbody tr th {\n",
       "        vertical-align: top;\n",
       "    }\n",
       "\n",
       "    .dataframe thead th {\n",
       "        text-align: right;\n",
       "    }\n",
       "</style>\n",
       "<table border=\"1\" class=\"dataframe\">\n",
       "  <thead>\n",
       "    <tr style=\"text-align: right;\">\n",
       "      <th></th>\n",
       "      <th>area</th>\n",
       "      <th>date</th>\n",
       "      <th>median_salary</th>\n",
       "      <th>life_satisfaction</th>\n",
       "      <th>mean_salary</th>\n",
       "      <th>population_size</th>\n",
       "      <th>number_of_jobs</th>\n",
       "      <th>area_size</th>\n",
       "      <th>no_of_houses</th>\n",
       "    </tr>\n",
       "  </thead>\n",
       "  <tbody>\n",
       "    <tr>\n",
       "      <th>0</th>\n",
       "      <td>city of london</td>\n",
       "      <td>1999-12-01</td>\n",
       "      <td>33020.0</td>\n",
       "      <td>0.0</td>\n",
       "      <td>48922</td>\n",
       "      <td>6581.0</td>\n",
       "      <td>0.0</td>\n",
       "      <td>0.0</td>\n",
       "      <td>0.0</td>\n",
       "    </tr>\n",
       "    <tr>\n",
       "      <th>1</th>\n",
       "      <td>barking and dagenham</td>\n",
       "      <td>1999-12-01</td>\n",
       "      <td>21480.0</td>\n",
       "      <td>0.0</td>\n",
       "      <td>23620</td>\n",
       "      <td>162444.0</td>\n",
       "      <td>0.0</td>\n",
       "      <td>0.0</td>\n",
       "      <td>0.0</td>\n",
       "    </tr>\n",
       "    <tr>\n",
       "      <th>2</th>\n",
       "      <td>barnet</td>\n",
       "      <td>1999-12-01</td>\n",
       "      <td>19568.0</td>\n",
       "      <td>0.0</td>\n",
       "      <td>23128</td>\n",
       "      <td>313469.0</td>\n",
       "      <td>0.0</td>\n",
       "      <td>0.0</td>\n",
       "      <td>0.0</td>\n",
       "    </tr>\n",
       "    <tr>\n",
       "      <th>3</th>\n",
       "      <td>bexley</td>\n",
       "      <td>1999-12-01</td>\n",
       "      <td>18621.0</td>\n",
       "      <td>0.0</td>\n",
       "      <td>21386</td>\n",
       "      <td>217458.0</td>\n",
       "      <td>0.0</td>\n",
       "      <td>0.0</td>\n",
       "      <td>0.0</td>\n",
       "    </tr>\n",
       "    <tr>\n",
       "      <th>4</th>\n",
       "      <td>brent</td>\n",
       "      <td>1999-12-01</td>\n",
       "      <td>18532.0</td>\n",
       "      <td>0.0</td>\n",
       "      <td>20911</td>\n",
       "      <td>260317.0</td>\n",
       "      <td>0.0</td>\n",
       "      <td>0.0</td>\n",
       "      <td>0.0</td>\n",
       "    </tr>\n",
       "  </tbody>\n",
       "</table>\n",
       "</div>"
      ],
      "text/plain": [
       "                   area       date  median_salary  life_satisfaction  \\\n",
       "0        city of london 1999-12-01        33020.0                0.0   \n",
       "1  barking and dagenham 1999-12-01        21480.0                0.0   \n",
       "2                barnet 1999-12-01        19568.0                0.0   \n",
       "3                bexley 1999-12-01        18621.0                0.0   \n",
       "4                 brent 1999-12-01        18532.0                0.0   \n",
       "\n",
       "  mean_salary  population_size  number_of_jobs  area_size  no_of_houses  \n",
       "0       48922           6581.0             0.0        0.0           0.0  \n",
       "1       23620         162444.0             0.0        0.0           0.0  \n",
       "2       23128         313469.0             0.0        0.0           0.0  \n",
       "3       21386         217458.0             0.0        0.0           0.0  \n",
       "4       20911         260317.0             0.0        0.0           0.0  "
      ]
     },
     "execution_count": 2,
     "metadata": {},
     "output_type": "execute_result"
    }
   ],
   "source": [
    "london_yearly = pd.read_csv(\"Datasets/housing_in_london_yearly_variables.csv\")\n",
    "london_yearly[\"number_of_jobs\"] = london_yearly[\"number_of_jobs\"].fillna(0)\n",
    "london_yearly[\"life_satisfaction\"] = london_yearly[\"life_satisfaction\"].fillna(0)\n",
    "london_yearly[\"area_size\"] = london_yearly[\"area_size\"].fillna(0)\n",
    "london_yearly[\"no_of_houses\"] = london_yearly[\"no_of_houses\"].fillna(0)\n",
    "\n",
    "london_yearly['date'] = pd.to_datetime(london_yearly.date)\n",
    "london_yearly = pd.DataFrame(london_yearly)\n",
    "london_yearly.fillna(0)\n",
    "\n",
    "del london_yearly[\"code\"]\n",
    "del london_yearly[\"recycling_pct\"]\n",
    "del london_yearly[\"borough_flag\"]\n",
    "\n",
    "london_yearly.head()"
   ]
  },
  {
   "cell_type": "code",
   "execution_count": 3,
   "metadata": {},
   "outputs": [
    {
     "data": {
      "text/plain": [
       "array(['1999-12-01T00:00:00.000000000', '2000-12-01T00:00:00.000000000',\n",
       "       '2001-12-01T00:00:00.000000000', '2002-12-01T00:00:00.000000000',\n",
       "       '2003-12-01T00:00:00.000000000', '2004-12-01T00:00:00.000000000',\n",
       "       '2005-12-01T00:00:00.000000000', '2006-12-01T00:00:00.000000000',\n",
       "       '2007-12-01T00:00:00.000000000', '2008-12-01T00:00:00.000000000',\n",
       "       '2009-12-01T00:00:00.000000000', '2010-12-01T00:00:00.000000000',\n",
       "       '2011-12-01T00:00:00.000000000', '2012-12-01T00:00:00.000000000',\n",
       "       '2013-12-01T00:00:00.000000000', '2014-12-01T00:00:00.000000000',\n",
       "       '2015-12-01T00:00:00.000000000', '2016-12-01T00:00:00.000000000',\n",
       "       '2017-12-01T00:00:00.000000000', '2018-12-01T00:00:00.000000000',\n",
       "       '2019-12-01T00:00:00.000000000'], dtype='datetime64[ns]')"
      ]
     },
     "execution_count": 3,
     "metadata": {},
     "output_type": "execute_result"
    }
   ],
   "source": [
    "london_yearly.date.unique()"
   ]
  },
  {
   "cell_type": "code",
   "execution_count": 4,
   "metadata": {},
   "outputs": [
    {
     "data": {
      "text/plain": [
       "array([0.  , 7.05, 7.43, 7.42, 7.11, 7.5 , 7.25, 7.04, 7.22, 7.23, 7.18,\n",
       "       7.  , 7.38, 7.31, 7.35, 7.4 , 7.26, 7.09, 7.57, 7.33, 7.13, 7.14,\n",
       "       7.12, 7.52, 7.36, 7.39, 7.02, 7.46, 7.44, 7.37, 7.47, 7.28, 7.51,\n",
       "       7.53, 7.41, 7.6 , 7.24, 7.01, 7.15, 7.07, 7.21, 7.17, 7.7 , 7.08,\n",
       "       7.3 , 7.32, 7.54, 7.55, 7.67, 7.34, 7.58, 7.49, 7.56, 7.73, 7.71,\n",
       "       7.45, 7.62, 7.63, 7.65, 7.64, 7.66, 7.89, 7.68, 7.69, 7.29, 7.78,\n",
       "       7.87, 7.74, 7.48, 7.85, 7.96, 7.61, 7.75, 7.59, 7.76, 7.88, 7.79,\n",
       "       7.91, 7.72, 7.92, 7.84, 7.82, 7.77])"
      ]
     },
     "execution_count": 4,
     "metadata": {},
     "output_type": "execute_result"
    }
   ],
   "source": [
    "london_yearly.life_satisfaction.unique()"
   ]
  },
  {
   "cell_type": "code",
   "execution_count": 5,
   "metadata": {},
   "outputs": [
    {
     "data": {
      "text/plain": [
       "area                         object\n",
       "date                 datetime64[ns]\n",
       "median_salary               float64\n",
       "life_satisfaction           float64\n",
       "mean_salary                  object\n",
       "population_size             float64\n",
       "number_of_jobs              float64\n",
       "area_size                   float64\n",
       "no_of_houses                float64\n",
       "dtype: object"
      ]
     },
     "execution_count": 5,
     "metadata": {},
     "output_type": "execute_result"
    }
   ],
   "source": [
    "london_yearly.dtypes"
   ]
  },
  {
   "cell_type": "code",
   "execution_count": 8,
   "metadata": {},
   "outputs": [
    {
     "data": {
      "text/plain": [
       "array(['city of london', 'barking and dagenham', 'barnet', 'bexley',\n",
       "       'brent', 'bromley', 'camden', 'croydon', 'ealing', 'enfield',\n",
       "       'greenwich', 'hackney', 'hammersmith and fulham', 'haringey',\n",
       "       'harrow', 'havering', 'hillingdon', 'hounslow', 'islington',\n",
       "       'kensington and chelsea', 'kingston upon thames', 'lambeth',\n",
       "       'lewisham', 'merton', 'newham', 'redbridge',\n",
       "       'richmond upon thames', 'southwark', 'sutton', 'tower hamlets',\n",
       "       'waltham forest', 'wandsworth', 'westminster', 'north east',\n",
       "       'north west', 'yorkshire and the humber', 'east midlands',\n",
       "       'west midlands', 'east', 'london', 'south east', 'south west',\n",
       "       'inner london', 'outer london', 'england', 'united kingdom',\n",
       "       'great britain', 'england and wales', 'northern ireland',\n",
       "       'scotland', 'wales'], dtype=object)"
      ]
     },
     "execution_count": 8,
     "metadata": {},
     "output_type": "execute_result"
    }
   ],
   "source": [
    "london_yearly.area.unique()"
   ]
  },
  {
   "cell_type": "code",
   "execution_count": 9,
   "metadata": {},
   "outputs": [
    {
     "data": {
      "text/plain": [
       "area                   51\n",
       "date                   21\n",
       "median_salary        1017\n",
       "life_satisfaction      83\n",
       "mean_salary          1041\n",
       "population_size      1017\n",
       "number_of_jobs        505\n",
       "area_size              38\n",
       "no_of_houses          664\n",
       "dtype: int64"
      ]
     },
     "execution_count": 9,
     "metadata": {},
     "output_type": "execute_result"
    }
   ],
   "source": [
    "london_yearly.nunique()"
   ]
  },
  {
   "cell_type": "code",
   "execution_count": null,
   "metadata": {},
   "outputs": [],
   "source": [
    "#Comparing line graphs first\n",
    "\n",
    "#testing"
   ]
  }
 ],
 "metadata": {
  "kernelspec": {
   "display_name": "Python 3",
   "language": "python",
   "name": "python3"
  },
  "language_info": {
   "codemirror_mode": {
    "name": "ipython",
    "version": 3
   },
   "file_extension": ".py",
   "mimetype": "text/x-python",
   "name": "python",
   "nbconvert_exporter": "python",
   "pygments_lexer": "ipython3",
   "version": "3.7.1"
  }
 },
 "nbformat": 4,
 "nbformat_minor": 2
}
